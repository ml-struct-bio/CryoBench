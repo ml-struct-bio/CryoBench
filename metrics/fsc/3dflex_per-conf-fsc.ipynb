{
 "cells": [
  {
   "cell_type": "code",
   "execution_count": 23,
   "id": "65bdb554",
   "metadata": {},
   "outputs": [],
   "source": [
    "import pandas as pd\n",
    "import numpy as np\n",
    "from cryodrgn.starfile import Starfile\n",
    "from cryodrgn import analysis, utils, config\n",
    "\n",
    "import pickle\n",
    "import os, sys\n",
    "import re\n",
    "import argparse\n",
    "import matplotlib.pyplot as plt\n",
    "log = print\n",
    "%matplotlib inline\n",
    "from cryosparc.tools import CryoSPARC"
   ]
  },
  {
   "cell_type": "code",
   "execution_count": 24,
   "id": "7260b681",
   "metadata": {},
   "outputs": [],
   "source": [
    "license = \"XXXX\"\n",
    "email = \"XXXX\"\n",
    "password = \"XXXX\""
   ]
  },
  {
   "cell_type": "code",
   "execution_count": 3,
   "id": "0f1768b5",
   "metadata": {},
   "outputs": [],
   "source": [
    "cs = CryoSPARC(\n",
    "    license=license,\n",
    "    email=email,\n",
    "    password=password,\n",
    "    host=\"XXXX\",\n",
    "    base_port=39000,\n",
    ")"
   ]
  },
  {
   "cell_type": "code",
   "execution_count": 25,
   "id": "03c36d18",
   "metadata": {},
   "outputs": [],
   "source": [
    "def per_conf_fsc_gen_vols(cs, project_num, job_num, num_imgs):\n",
    "    project = cs.find_project(project_num)\n",
    "    job = cs.find_job(project_num, job_num) # Flex train\n",
    "    particles = job.load_output(\"particles\")\n",
    "\n",
    "    job = project.create_external_job(\"W1\", \"Custom Latents\")\n",
    "    job.connect(\"particles\", job_num, \"particles\", slots=[\"components\"])\n",
    "\n",
    "    v = np.empty((len(particles),2))\n",
    "    for i in range(2):\n",
    "        v[:,i] = particles[f'components_mode_{i}/value']\n",
    "\n",
    "#     latent_pts = v[::num_imgs]\n",
    "    z_lst = []\n",
    "    z_mean_lst = [] \n",
    "    for i in range(num_vols):\n",
    "        z_nth = v[i*num_imgs:(i+1)*num_imgs]\n",
    "        z_nth_avg = z_nth.mean(axis=0)\n",
    "        z_nth_avg = z_nth_avg.reshape(1,-1)\n",
    "        z_lst.append(z_nth)\n",
    "        z_mean_lst.append(z_nth_avg)\n",
    "    \n",
    "    nearest_z_lst = []\n",
    "    centers_ind_lst = []\n",
    "    for i in range(num_vols):\n",
    "        nearest_z, centers_ind = analysis.get_nearest_point(z_lst[i], z_mean_lst[i])\n",
    "        nearest_z_lst.append(nearest_z.reshape(nearest_z.shape[-1]))\n",
    "        centers_ind_lst.append(centers_ind)\n",
    "    latent_pts = np.array(nearest_z_lst)\n",
    "    \n",
    "    latents_dset = job.add_output(\n",
    "        type=\"particle\",\n",
    "        name=\"latents\",\n",
    "        slots=[{\"prefix\": \"components_mode_%d\" % k, \"dtype\": \"components\", \"required\": True} for k in range(2)],\n",
    "        title=\"Latents\",\n",
    "        alloc=len(latent_pts),\n",
    "    )\n",
    "\n",
    "    for k in range(2):\n",
    "        latents_dset[\"components_mode_%d/component\" % k] = k\n",
    "        latents_dset[\"components_mode_%d/value\" % k] = latent_pts[:, k]\n",
    "\n",
    "    with job.run():\n",
    "        job.save_output(\"latents\", latents_dset)"
   ]
  },
  {
   "cell_type": "markdown",
   "id": "994efad7",
   "metadata": {},
   "source": [
    "### Dihedrals"
   ]
  },
  {
   "cell_type": "code",
   "execution_count": 5,
   "id": "4eba35ff",
   "metadata": {},
   "outputs": [],
   "source": [
    "project_num = \"P572\"\n",
    "job_num = \"J78\"\n",
    "num_imgs = 1000\n",
    "\n",
    "per_conf_fsc_gen_vols(cs, project_num, job_num, num_imgs)"
   ]
  }
 ],
 "metadata": {
  "kernelspec": {
   "display_name": "cryodrgn [~/.conda/envs/cryodrgn/]",
   "language": "python",
   "name": "conda_cryodrgn"
  },
  "language_info": {
   "codemirror_mode": {
    "name": "ipython",
    "version": 3
   },
   "file_extension": ".py",
   "mimetype": "text/x-python",
   "name": "python",
   "nbconvert_exporter": "python",
   "pygments_lexer": "ipython3",
   "version": "3.9.18"
  }
 },
 "nbformat": 4,
 "nbformat_minor": 5
}

{
 "cells": [
  {
   "cell_type": "code",
   "execution_count": 1,
   "id": "c0e39d38",
   "metadata": {},
   "outputs": [],
   "source": [
    "import pickle\n",
    "import numpy as np"
   ]
  },
  {
   "cell_type": "code",
   "execution_count": 11,
   "id": "e185ce34",
   "metadata": {},
   "outputs": [
    {
     "name": "stderr",
     "output_type": "stream",
     "text": [
      "/home/mj7341/.conda/envs/recovar/lib/python3.11/site-packages/jax/_src/api_util.py:174: SyntaxWarning: Jitted function has static_argnums=(3, 4, 5, 6, 7, 8), but only accepts 8 positional arguments. This warning will be replaced by an error after 2022-08-20 at the earliest.\n",
      "  warnings.warn(f\"Jitted function has {argnums_name}={argnums}, \"\n"
     ]
    }
   ],
   "source": [
    "from recovar import output as o\n",
    "from recovar import dataset, utils, latent_density, embedding"
   ]
  },
  {
   "cell_type": "code",
   "execution_count": 12,
   "id": "78cde65d",
   "metadata": {},
   "outputs": [],
   "source": [
    "recovar_result_dir = '/scratch/gpfs/ZHONGE/mj7341/NeurIPS/results/conf-het/dihedral/snr001/recovar'"
   ]
  },
  {
   "cell_type": "code",
   "execution_count": 13,
   "id": "5d0f5079",
   "metadata": {},
   "outputs": [],
   "source": [
    "pipeline_output = o.PipelineOutput(recovar_result_dir +'/')"
   ]
  },
  {
   "cell_type": "code",
   "execution_count": 14,
   "id": "2b50b796",
   "metadata": {},
   "outputs": [
    {
     "name": "stdout",
     "output_type": "stream",
     "text": [
      "(INFO) (dataset.py) (19-May-24 11:36:22) Loading halfset from file\n",
      "(INFO) (ctf.py) (19-May-24 11:36:23) Image size (pix)  : 128\n",
      "(INFO) (ctf.py) (19-May-24 11:36:23) A/pix             : 3.0\n",
      "(INFO) (ctf.py) (19-May-24 11:36:23) DefocusU (A)      : 13628.021484375\n",
      "(INFO) (ctf.py) (19-May-24 11:36:23) DefocusV (A)      : 12750.6298828125\n",
      "(INFO) (ctf.py) (19-May-24 11:36:23) Dfang (deg)       : 100.841064453125\n",
      "(INFO) (ctf.py) (19-May-24 11:36:23) voltage (kV)      : 300.0\n",
      "(INFO) (ctf.py) (19-May-24 11:36:23) cs (mm)           : 2.700000047683716\n",
      "(INFO) (ctf.py) (19-May-24 11:36:23) w                 : 0.10000000149011612\n",
      "(INFO) (ctf.py) (19-May-24 11:36:23) Phase shift (deg) : 0.0\n",
      "(INFO) (ctf.py) (19-May-24 11:36:23) Image size (pix)  : 128\n",
      "(INFO) (ctf.py) (19-May-24 11:36:23) A/pix             : 3.0\n",
      "(INFO) (ctf.py) (19-May-24 11:36:23) DefocusU (A)      : 13628.021484375\n",
      "(INFO) (ctf.py) (19-May-24 11:36:23) DefocusV (A)      : 12750.6298828125\n",
      "(INFO) (ctf.py) (19-May-24 11:36:23) Dfang (deg)       : 100.841064453125\n",
      "(INFO) (ctf.py) (19-May-24 11:36:23) voltage (kV)      : 300.0\n",
      "(INFO) (ctf.py) (19-May-24 11:36:23) cs (mm)           : 2.700000047683716\n",
      "(INFO) (ctf.py) (19-May-24 11:36:23) w                 : 0.10000000149011612\n",
      "(INFO) (ctf.py) (19-May-24 11:36:23) Phase shift (deg) : 0.0\n"
     ]
    }
   ],
   "source": [
    "cryos = pipeline_output.get('lazy_dataset')"
   ]
  },
  {
   "cell_type": "code",
   "execution_count": 15,
   "id": "d00de065",
   "metadata": {},
   "outputs": [],
   "source": [
    "zs = pipeline_output.get('zs')[zdim]"
   ]
  },
  {
   "cell_type": "code",
   "execution_count": 16,
   "id": "8b94e9b6",
   "metadata": {},
   "outputs": [],
   "source": [
    "zs_reordered = dataset.reorder_to_original_indexing(zs, cryos )"
   ]
  },
  {
   "cell_type": "code",
   "execution_count": 17,
   "id": "dbefe01a",
   "metadata": {},
   "outputs": [],
   "source": [
    "num_images  = zs.shape[0]"
   ]
  },
  {
   "cell_type": "code",
   "execution_count": 18,
   "id": "059e1652",
   "metadata": {},
   "outputs": [],
   "source": [
    "indices = (np.linspace(0, num_images, 100)).astype(int)"
   ]
  },
  {
   "cell_type": "code",
   "execution_count": 31,
   "id": "8e9bdd69",
   "metadata": {},
   "outputs": [],
   "source": [
    "target_zs = zs_reordered[::1000]"
   ]
  },
  {
   "cell_type": "code",
   "execution_count": 32,
   "id": "2652e3d9",
   "metadata": {},
   "outputs": [
    {
     "data": {
      "text/plain": [
       "(100, 20)"
      ]
     },
     "execution_count": 32,
     "metadata": {},
     "output_type": "execute_result"
    }
   ],
   "source": [
    "target_zs.shape"
   ]
  },
  {
   "cell_type": "code",
   "execution_count": null,
   "id": "9e5a2586",
   "metadata": {},
   "outputs": [],
   "source": []
  }
 ],
 "metadata": {
  "kernelspec": {
   "display_name": "recovar [~/.conda/envs/recovar/]",
   "language": "python",
   "name": "conda_recovar"
  },
  "language_info": {
   "codemirror_mode": {
    "name": "ipython",
    "version": 3
   },
   "file_extension": ".py",
   "mimetype": "text/x-python",
   "name": "python",
   "nbconvert_exporter": "python",
   "pygments_lexer": "ipython3",
   "version": "3.11.9"
  }
 },
 "nbformat": 4,
 "nbformat_minor": 5
}

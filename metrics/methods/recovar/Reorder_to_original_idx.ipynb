{
 "cells": [
  {
   "cell_type": "markdown",
   "id": "077b9e20",
   "metadata": {},
   "source": [
    "### Recovar "
   ]
  },
  {
   "cell_type": "code",
   "execution_count": 1,
   "id": "b21f1ad6",
   "metadata": {},
   "outputs": [
    {
     "name": "stderr",
     "output_type": "stream",
     "text": [
      "2024-05-19 22:50:22.401914: I tensorflow/core/util/port.cc:111] oneDNN custom operations are on. You may see slightly different numerical results due to floating-point round-off errors from different computation orders. To turn them off, set the environment variable `TF_ENABLE_ONEDNN_OPTS=0`.\n",
      "2024-05-19 22:50:23.001492: I tensorflow/core/platform/cpu_feature_guard.cc:182] This TensorFlow binary is optimized to use available CPU instructions in performance-critical operations.\n",
      "To enable the following instructions: AVX2 AVX512F AVX512_VNNI FMA, in other operations, rebuild TensorFlow with the appropriate compiler flags.\n"
     ]
    },
    {
     "name": "stdout",
     "output_type": "stream",
     "text": [
      "(INFO) (xla_bridge.py) (19-May-24 22:50:38) Unable to initialize backend 'cuda': Unable to load cuSOLVER. Is it installed?\n",
      "(INFO) (xla_bridge.py) (19-May-24 22:50:38) Unable to initialize backend 'rocm': NOT_FOUND: Could not find registered platform with name: \"rocm\". Available platform names are: CUDA\n",
      "(INFO) (xla_bridge.py) (19-May-24 22:50:38) Unable to initialize backend 'tpu': INTERNAL: Failed to open libtpu.so: libtpu.so: cannot open shared object file: No such file or directory\n",
      "(WARNING) (xla_bridge.py) (19-May-24 22:50:38) CUDA backend failed to initialize: Unable to load cuSOLVER. Is it installed? (Set TF_CPP_MIN_LOG_LEVEL=0 and rerun for more info.)\n",
      "(INFO) (config.py) (19-May-24 22:50:38) Devices found: cpu\n"
     ]
    },
    {
     "name": "stderr",
     "output_type": "stream",
     "text": [
      "/home/mj7341/.conda/envs/recovar/lib/python3.11/site-packages/jax/_src/api_util.py:174: SyntaxWarning: Jitted function has static_argnums=(3, 4, 5, 6, 7, 8), but only accepts 8 positional arguments. This warning will be replaced by an error after 2022-08-20 at the earliest.\n",
      "  warnings.warn(f\"Jitted function has {argnums_name}={argnums}, \"\n"
     ]
    }
   ],
   "source": [
    "import recovar.config \n",
    "import logging\n",
    "import numpy as np\n",
    "from recovar import output as o\n",
    "from recovar import dataset, utils, latent_density, embedding\n",
    "from scipy.spatial import distance_matrix\n",
    "import pickle\n",
    "import os, argparse\n",
    "\n",
    "from cryodrgn import analysis"
   ]
  },
  {
   "cell_type": "code",
   "execution_count": 26,
   "id": "e21c45d7",
   "metadata": {},
   "outputs": [],
   "source": [
    "recovar_result_dir = '/scratch/gpfs/ZHONGE/mj7341/NeurIPS/results/conf-het/dihedral/snr0001/recovar'\n",
    "zdim = 10"
   ]
  },
  {
   "cell_type": "code",
   "execution_count": 27,
   "id": "13dd8c42",
   "metadata": {},
   "outputs": [
    {
     "name": "stdout",
     "output_type": "stream",
     "text": [
      "(INFO) (dataset.py) (20-May-24 00:04:40) Loading halfset from file\n",
      "(INFO) (ctf.py) (20-May-24 00:04:41) Image size (pix)  : 128\n",
      "(INFO) (ctf.py) (20-May-24 00:04:41) A/pix             : 3.0\n",
      "(INFO) (ctf.py) (20-May-24 00:04:41) DefocusU (A)      : 13628.021484375\n",
      "(INFO) (ctf.py) (20-May-24 00:04:41) DefocusV (A)      : 12750.6298828125\n",
      "(INFO) (ctf.py) (20-May-24 00:04:41) Dfang (deg)       : 100.841064453125\n",
      "(INFO) (ctf.py) (20-May-24 00:04:41) voltage (kV)      : 300.0\n",
      "(INFO) (ctf.py) (20-May-24 00:04:41) cs (mm)           : 2.700000047683716\n",
      "(INFO) (ctf.py) (20-May-24 00:04:41) w                 : 0.10000000149011612\n",
      "(INFO) (ctf.py) (20-May-24 00:04:41) Phase shift (deg) : 0.0\n",
      "(INFO) (ctf.py) (20-May-24 00:04:41) Image size (pix)  : 128\n",
      "(INFO) (ctf.py) (20-May-24 00:04:41) A/pix             : 3.0\n",
      "(INFO) (ctf.py) (20-May-24 00:04:41) DefocusU (A)      : 13628.021484375\n",
      "(INFO) (ctf.py) (20-May-24 00:04:41) DefocusV (A)      : 12750.6298828125\n",
      "(INFO) (ctf.py) (20-May-24 00:04:41) Dfang (deg)       : 100.841064453125\n",
      "(INFO) (ctf.py) (20-May-24 00:04:41) voltage (kV)      : 300.0\n",
      "(INFO) (ctf.py) (20-May-24 00:04:41) cs (mm)           : 2.700000047683716\n",
      "(INFO) (ctf.py) (20-May-24 00:04:41) w                 : 0.10000000149011612\n",
      "(INFO) (ctf.py) (20-May-24 00:04:41) Phase shift (deg) : 0.0\n"
     ]
    }
   ],
   "source": [
    "pipeline_output = o.PipelineOutput(recovar_result_dir + '/')\n",
    "cryos = pipeline_output.get('lazy_dataset')\n",
    "zs = pipeline_output.get('zs')[zdim]\n",
    "zs_reordered = dataset.reorder_to_original_indexing(zs, cryos)\n",
    "\n",
    "latent_path = os.path.join(recovar_result_dir, 'reordered_z.npy')\n",
    "np.save(latent_path, zs_reordered)\n",
    "umap_pkl = analysis.run_umap(zs_reordered)\n",
    "umap_path = os.path.join(recovar_result_dir, 'reordered_z_umap.npy')\n",
    "np.save(umap_path, umap_pkl)"
   ]
  },
  {
   "cell_type": "code",
   "execution_count": null,
   "id": "ed544498",
   "metadata": {},
   "outputs": [],
   "source": []
  }
 ],
 "metadata": {
  "kernelspec": {
   "display_name": "recovar [~/.conda/envs/recovar/]",
   "language": "python",
   "name": "conda_recovar"
  },
  "language_info": {
   "codemirror_mode": {
    "name": "ipython",
    "version": 3
   },
   "file_extension": ".py",
   "mimetype": "text/x-python",
   "name": "python",
   "nbconvert_exporter": "python",
   "pygments_lexer": "ipython3",
   "version": "3.11.9"
  }
 },
 "nbformat": 4,
 "nbformat_minor": 5
}

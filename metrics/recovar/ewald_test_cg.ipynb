{
 "cells": [
  {
   "cell_type": "markdown",
   "metadata": {},
   "source": [
    "## Does the following:\n",
    "-  Simulate data, store in RECOVAR format\n",
    "- Load data and ground truth from file\n",
    "- Attempt to solve with CG\n"
   ]
  },
  {
   "cell_type": "code",
   "execution_count": null,
   "metadata": {
    "tags": []
   },
   "outputs": [],
   "source": [
    "import recovar.config\n",
    "from importlib import reload\n",
    "import numpy as np\n",
    "from cryodrgn import analysis\n",
    "from cryodrgn import utils\n",
    "from cryodrgn import ctf\n",
    "from recovar import plot_utils\n",
    "from recovar import output, dataset\n",
    "import matplotlib.pyplot as plt\n",
    "import seaborn as sns\n",
    "import plotly.graph_objs as go\n",
    "import plotly.offline as py\n",
    "from recovar import simulator\n",
    "reload(simulator)\n",
    "import jax\n",
    "import warnings\n",
    "# warnings.filterwarnings(\"error\")\n",
    "\n",
    "grid_size =256//1 *2\n",
    "output_folder = f\"/home/mg6942/mytigress/spike{grid_size}_ewald/\"\n",
    "volume_folder_input =  f\"/home/mg6942/mytigress/spike{grid_size}/\"\n",
    "outlier_file_input = \"/home/mg6942/mytigress/simulated_empiar10180/volumes/vol0915.mrc\"\n",
    "n_images = int(1e4)\n",
    "voxel_size = 10 * 128 / grid_size#3/2/2\n",
    "output.mkdir_safe(output_folder)\n",
    "volume_distribution = np.zeros(1)\n",
    "first_k = 1\n",
    "volume_distribution[:first_k] = 1/first_k\n",
    "image_stack, sim_info = simulator.generate_synthetic_dataset(output_folder, voxel_size, volume_folder_input, \n",
    "                                                             outlier_file_input, n_images, grid_size = grid_size,\n",
    "                               volume_distribution = volume_distribution,  dataset_params_option = \"dataset1\", noise_level =1e-1, \n",
    "                               noise_model = \"white\", put_extra_particles = False, percent_outliers = 0.0, \n",
    "                               volume_radius = 0.6, trailing_zero_format_in_vol_name = True, noise_scale_std = 0.2 * 0, contrast_std =0.1 * 0 , disc_type = 'ewald_nearest')"
   ]
  },
  {
   "cell_type": "code",
   "execution_count": null,
   "metadata": {
    "tags": []
   },
   "outputs": [],
   "source": [
    "plt.imshow(image_stack[0])\n",
    "\n",
    "grid_size =256*2\n",
    "output_folder = f\"/home/mg6942/mytigress/spike{grid_size}_ewald/\"\n",
    "# output_folder ='/home/mg6942/mytigress/spike256/../'\n",
    "volume_folder_input =  f\"/home/mg6942/mytigress/spike{grid_size}/\"\n",
    "outlier_file_input = \"/home/mg6942/mytigress/simulated_empiar10180/volumes/vol0915.mrc\"\n",
    "dataset_dict = dataset.get_default_dataset_option()\n",
    "\n",
    "# Fill these options with the path to preprocessed files\n",
    "experiment_directory = '/home/mg6942/mytigress/uniform/'\n",
    "dataset_dict['ctf_file'] = output_folder + \"ctf.pkl\"\n",
    "dataset_dict['poses_file'] = output_folder + \"poses.pkl\"\n",
    "dataset_dict['particles_file'] = f\"{output_folder}particles.{grid_size}.mrcs\"\n",
    "\n",
    "\n",
    "# Returns an object that knows everything about the dataset.\n",
    "cryo = dataset.load_dataset_from_dict(dataset_dict, lazy = False)\n",
    "print(\"n images\", cryo.n_images)\n",
    "del dataset_dict['ind']"
   ]
  },
  {
   "cell_type": "code",
   "execution_count": null,
   "metadata": {
    "tags": []
   },
   "outputs": [],
   "source": [
    "# cryo = dataset.load_cryodrgn_dataset( f\"{output_folder}particles.{grid_size}.mrcs\", output_folder + \"poses.pkl\", output_folder + \"ctf.pkl\", lazy = False)\n",
    "from recovar import regularization, synthetic_dataset, noise, homogeneous, utils\n",
    "sim_info = recovar.utils.pickle_load(output_folder + '/simulation_info.pkl')\n",
    "gt_recon = synthetic_dataset.load_heterogeneous_reconstruction(sim_info, volumes_path_root = None)\n",
    "gt_vol =gt_recon.get_mean()\n",
    "noise_variance = sim_info['noise_variance']\n",
    "signal_variance = utils.make_radial_image(regularization.average_over_shells(np.abs(gt_vol)**2, cryo.volume_shape), cryo.volume_shape)\n"
   ]
  },
  {
   "cell_type": "code",
   "execution_count": null,
   "metadata": {
    "tags": []
   },
   "outputs": [],
   "source": [
    "from recovar import ewald\n",
    "reload(ewald)\n",
    "x, residuals = ewald.solve_ewald_least_squares(cryo, 100, \"nearest\", signal_variance, noise_variance)\n",
    "plt.semilogy(residuals)"
   ]
  }
 ],
 "metadata": {
  "kernelspec": {
   "display_name": "recovar2 [~/.conda/envs/recovar2/]",
   "language": "python",
   "name": "conda_recovar2"
  },
  "language_info": {
   "codemirror_mode": {
    "name": "ipython",
    "version": 3
   },
   "file_extension": ".py",
   "mimetype": "text/x-python",
   "name": "python",
   "nbconvert_exporter": "python",
   "pygments_lexer": "ipython3",
   "version": "3.9.18"
  }
 },
 "nbformat": 4,
 "nbformat_minor": 4
}

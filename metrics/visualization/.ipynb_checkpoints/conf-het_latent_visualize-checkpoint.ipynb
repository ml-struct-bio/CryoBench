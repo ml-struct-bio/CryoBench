{
 "cells": [
  {
   "cell_type": "code",
   "execution_count": 1,
   "id": "8e18e83d",
   "metadata": {},
   "outputs": [],
   "source": [
    "import pandas as pd\n",
    "import numpy as np\n",
    "from cryodrgn.starfile import Starfile\n",
    "from cryodrgn import analysis, utils, config\n",
    "\n",
    "import pickle\n",
    "import os, sys\n",
    "import re\n",
    "import argparse\n",
    "import matplotlib.pyplot as plt\n",
    "log = print\n",
    "%matplotlib inline"
   ]
  },
  {
   "cell_type": "code",
   "execution_count": 2,
   "id": "3aab88d4",
   "metadata": {},
   "outputs": [],
   "source": [
    "def natural_sort_key(s):\n",
    "    # Convert the string to a list of text and numbers\n",
    "    parts = re.split('([0-9]+)', s)\n",
    "    \n",
    "    # Convert numeric parts to integers for proper numeric comparison\n",
    "    parts[1::2] = map(int, parts[1::2])\n",
    "    \n",
    "    return parts"
   ]
  },
  {
   "cell_type": "code",
   "execution_count": 3,
   "id": "6bab7c94",
   "metadata": {},
   "outputs": [],
   "source": [
    "def plt_umap_labels():\n",
    "    plt.xticks([])\n",
    "    plt.yticks([])"
   ]
  },
  {
   "cell_type": "markdown",
   "id": "5825361d",
   "metadata": {},
   "source": [
    "# Conf-het-1"
   ]
  },
  {
   "cell_type": "code",
   "execution_count": 4,
   "id": "73b90d9f",
   "metadata": {},
   "outputs": [],
   "source": [
    "dihed_angles = np.linspace(-180, 176.4, 100)"
   ]
  },
  {
   "cell_type": "code",
   "execution_count": 5,
   "id": "f8489fd0",
   "metadata": {},
   "outputs": [],
   "source": [
    "umap_pkl = \"/scratch/gpfs/ZHONGE/mj7341/NeurIPS/results/conf-het/dihedral/snr001/cryodrgn/analyze.19/umap.pkl\"\n",
    "umap_pkl = open(umap_pkl, 'rb')\n",
    "umap = pickle.load(umap_pkl)    "
   ]
  },
  {
   "cell_type": "code",
   "execution_count": null,
   "id": "4d80f11b",
   "metadata": {},
   "outputs": [],
   "source": [
    "mix_label = np.arange(100)\n",
    "fig, ax = plt.subplots(figsize=(4,4))\n",
    "plot_dim = (0,1)\n",
    "# Dihedral angles\n",
    "c_all = np.repeat(mix_label,1000)\n",
    "c = c_all\n",
    "plot_args = dict(alpha=.1, s=1, cmap='gist_rainbow', vmin=-180,vmax=176.4)\n",
    "plt.scatter(new_umap[:,plot_dim[0]], new_umap[:,plot_dim[1]], c=c_all, **plot_args)"
   ]
  }
 ],
 "metadata": {
  "kernelspec": {
   "display_name": "tomodrgn [~/.conda/envs/tomodrgn/]",
   "language": "python",
   "name": "conda_tomodrgn"
  },
  "language_info": {
   "codemirror_mode": {
    "name": "ipython",
    "version": 3
   },
   "file_extension": ".py",
   "mimetype": "text/x-python",
   "name": "python",
   "nbconvert_exporter": "python",
   "pygments_lexer": "ipython3",
   "version": "3.10.13"
  }
 },
 "nbformat": 4,
 "nbformat_minor": 5
}
